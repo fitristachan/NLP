{
 "cells": [
  {
   "cell_type": "code",
   "execution_count": 2,
   "metadata": {},
   "outputs": [],
   "source": [
    "review = \"I like this phone. screen quality and camera clarity is really good.\"\n",
    "review2 = \"This tv is not good. Bad quality, no clarity, worst experience\""
   ]
  },
  {
   "cell_type": "code",
   "execution_count": 4,
   "metadata": {},
   "outputs": [
    {
     "name": "stdout",
     "output_type": "stream",
     "text": [
      "Collecting wordcloud\n",
      "  Downloading wordcloud-1.9.3-cp311-cp311-win_amd64.whl (300 kB)\n",
      "                                              0.0/300.2 kB ? eta -:--:--\n",
      "     ----                                     30.7/300.2 kB ? eta -:--:--\n",
      "     --------                              71.7/300.2 kB 787.7 kB/s eta 0:00:01\n",
      "     -----------                             92.2/300.2 kB 1.1 MB/s eta 0:00:01\n",
      "     -----------                             92.2/300.2 kB 1.1 MB/s eta 0:00:01\n",
      "     -----------                             92.2/300.2 kB 1.1 MB/s eta 0:00:01\n",
      "     -----------                             92.2/300.2 kB 1.1 MB/s eta 0:00:01\n",
      "     -----------                             92.2/300.2 kB 1.1 MB/s eta 0:00:01\n",
      "     -----------                             92.2/300.2 kB 1.1 MB/s eta 0:00:01\n",
      "     -----------                             92.2/300.2 kB 1.1 MB/s eta 0:00:01\n",
      "     -----------                             92.2/300.2 kB 1.1 MB/s eta 0:00:01\n",
      "     -----------                             92.2/300.2 kB 1.1 MB/s eta 0:00:01\n",
      "     -----------                             92.2/300.2 kB 1.1 MB/s eta 0:00:01\n",
      "     ------------------                   153.6/300.2 kB 208.7 kB/s eta 0:00:01\n",
      "     ------------------                   153.6/300.2 kB 208.7 kB/s eta 0:00:01\n",
      "     ------------------                   153.6/300.2 kB 208.7 kB/s eta 0:00:01\n",
      "     --------------------                 174.1/300.2 kB 201.8 kB/s eta 0:00:01\n",
      "     -----------------------              194.6/300.2 kB 207.1 kB/s eta 0:00:01\n",
      "     ------------------------             204.8/300.2 kB 207.6 kB/s eta 0:00:01\n",
      "     ---------------------------          225.3/300.2 kB 218.5 kB/s eta 0:00:01\n",
      "     ----------------------------         235.5/300.2 kB 215.4 kB/s eta 0:00:01\n",
      "     ----------------------------         235.5/300.2 kB 215.4 kB/s eta 0:00:01\n",
      "     ----------------------------         235.5/300.2 kB 215.4 kB/s eta 0:00:01\n",
      "     -----------------------------------  297.0/300.2 kB 251.5 kB/s eta 0:00:01\n",
      "     -----------------------------------  297.0/300.2 kB 251.5 kB/s eta 0:00:01\n",
      "     -----------------------------------  297.0/300.2 kB 251.5 kB/s eta 0:00:01\n",
      "     ------------------------------------ 300.2/300.2 kB 221.0 kB/s eta 0:00:00\n",
      "Requirement already satisfied: numpy>=1.6.1 in c:\\users\\gabriel viceraira\\appdata\\local\\packages\\pythonsoftwarefoundation.python.3.11_qbz5n2kfra8p0\\localcache\\local-packages\\python311\\site-packages (from wordcloud) (1.24.3)\n",
      "Requirement already satisfied: pillow in c:\\users\\gabriel viceraira\\appdata\\local\\packages\\pythonsoftwarefoundation.python.3.11_qbz5n2kfra8p0\\localcache\\local-packages\\python311\\site-packages (from wordcloud) (9.5.0)\n",
      "Requirement already satisfied: matplotlib in c:\\users\\gabriel viceraira\\appdata\\local\\packages\\pythonsoftwarefoundation.python.3.11_qbz5n2kfra8p0\\localcache\\local-packages\\python311\\site-packages (from wordcloud) (3.7.1)\n",
      "Requirement already satisfied: contourpy>=1.0.1 in c:\\users\\gabriel viceraira\\appdata\\local\\packages\\pythonsoftwarefoundation.python.3.11_qbz5n2kfra8p0\\localcache\\local-packages\\python311\\site-packages (from matplotlib->wordcloud) (1.0.7)\n",
      "Requirement already satisfied: cycler>=0.10 in c:\\users\\gabriel viceraira\\appdata\\local\\packages\\pythonsoftwarefoundation.python.3.11_qbz5n2kfra8p0\\localcache\\local-packages\\python311\\site-packages (from matplotlib->wordcloud) (0.11.0)\n",
      "Requirement already satisfied: fonttools>=4.22.0 in c:\\users\\gabriel viceraira\\appdata\\local\\packages\\pythonsoftwarefoundation.python.3.11_qbz5n2kfra8p0\\localcache\\local-packages\\python311\\site-packages (from matplotlib->wordcloud) (4.39.3)\n",
      "Requirement already satisfied: kiwisolver>=1.0.1 in c:\\users\\gabriel viceraira\\appdata\\local\\packages\\pythonsoftwarefoundation.python.3.11_qbz5n2kfra8p0\\localcache\\local-packages\\python311\\site-packages (from matplotlib->wordcloud) (1.4.4)\n",
      "Requirement already satisfied: packaging>=20.0 in c:\\users\\gabriel viceraira\\appdata\\local\\packages\\pythonsoftwarefoundation.python.3.11_qbz5n2kfra8p0\\localcache\\local-packages\\python311\\site-packages (from matplotlib->wordcloud) (23.1)\n",
      "Requirement already satisfied: pyparsing>=2.3.1 in c:\\users\\gabriel viceraira\\appdata\\local\\packages\\pythonsoftwarefoundation.python.3.11_qbz5n2kfra8p0\\localcache\\local-packages\\python311\\site-packages (from matplotlib->wordcloud) (3.0.9)\n",
      "Requirement already satisfied: python-dateutil>=2.7 in c:\\users\\gabriel viceraira\\appdata\\local\\packages\\pythonsoftwarefoundation.python.3.11_qbz5n2kfra8p0\\localcache\\local-packages\\python311\\site-packages (from matplotlib->wordcloud) (2.8.2)\n",
      "Requirement already satisfied: six>=1.5 in c:\\users\\gabriel viceraira\\appdata\\local\\packages\\pythonsoftwarefoundation.python.3.11_qbz5n2kfra8p0\\localcache\\local-packages\\python311\\site-packages (from python-dateutil>=2.7->matplotlib->wordcloud) (1.16.0)\n",
      "Installing collected packages: wordcloud\n",
      "Successfully installed wordcloud-1.9.3\n",
      "Note: you may need to restart the kernel to use updated packages.\n"
     ]
    },
    {
     "name": "stderr",
     "output_type": "stream",
     "text": [
      "\n",
      "[notice] A new release of pip is available: 23.1.2 -> 24.0\n",
      "[notice] To update, run: C:\\Users\\GABRIEL VICERAIRA\\AppData\\Local\\Microsoft\\WindowsApps\\PythonSoftwareFoundation.Python.3.11_qbz5n2kfra8p0\\python.exe -m pip install --upgrade pip\n"
     ]
    }
   ],
   "source": [
    "%pip install wordcloud"
   ]
  },
  {
   "cell_type": "code",
   "execution_count": 5,
   "metadata": {},
   "outputs": [
    {
     "data": {
      "text/plain": [
       "'This tv is not good. Bad quality, no clarity, worst experience'"
      ]
     },
     "execution_count": 5,
     "metadata": {},
     "output_type": "execute_result"
    }
   ],
   "source": [
    "def processRow(row):\n",
    " import re\n",
    " import nltk\n",
    " from textblob import TextBlob\n",
    " from nltk.corpus import stopwords\n",
    " from nltk.stem import PorterStemmer\n",
    " from textblob import Word\n",
    " from nltk.util import ngrams\n",
    " import re\n",
    " from wordcloud import WordCloud, STOPWORDS\n",
    " from nltk.tokenize import word_tokenize\n",
    "\n",
    " review = row\n",
    " review2 =  row\n",
    "\n",
    " #Lower case\n",
    " review.lower()\n",
    " review2.lower()\n",
    "\n",
    " #remove multiple exclamation\n",
    " review = re.sub(r\"(\\!)\\1+\", ' ', review)\n",
    " review2 = re.sub(r\"(\\!)\\1+\", ' ', review2)\n",
    "\n",
    " #remove multiple question marks\n",
    " review = re.sub(r\"(\\?)\\1+\", ' ', review)\n",
    " review2 = re.sub(r\"(\\?)\\1+\", ' ', review2)\n",
    "\n",
    " #remove multistop\n",
    " review = re.sub(r\"(\\.)\\1+\", ' ', review)\n",
    " review2 = re.sub(r\"(\\.)\\1+\", ' ', review2)\n",
    "\n",
    " #lemma\n",
    " from textblob import Word\n",
    " review =\" \".join([Word(word).lemmatize() for word in review.split()])\n",
    " review2 =\" \".join([Word(word).lemmatize() for word in review.split()])\n",
    "\n",
    " #trim\n",
    " review = review.strip('\\'\"')\n",
    " row = review\n",
    " review2 = review2.strip('\\'\"')\n",
    " row = review2\n",
    " return row\n",
    "\n",
    "#call the function with your data\n",
    "processRow(review)\n",
    "processRow(review2)"
   ]
  },
  {
   "cell_type": "code",
   "execution_count": 6,
   "metadata": {},
   "outputs": [
    {
     "data": {
      "text/plain": [
       "Sentiment(polarity=0.7, subjectivity=0.6000000000000001)"
      ]
     },
     "execution_count": 6,
     "metadata": {},
     "output_type": "execute_result"
    }
   ],
   "source": [
    "#import libraries\n",
    "from textblob import TextBlob\n",
    "#TextBlob has a pre trained sentiment prediction model\n",
    "blob = TextBlob(review)\n",
    "blob.sentiment"
   ]
  },
  {
   "cell_type": "code",
   "execution_count": 7,
   "metadata": {},
   "outputs": [
    {
     "data": {
      "text/plain": [
       "Sentiment(polarity=-0.6833333333333332, subjectivity=0.7555555555555555)"
      ]
     },
     "execution_count": 7,
     "metadata": {},
     "output_type": "execute_result"
    }
   ],
   "source": [
    "#now lets look at the sentiment of review2\n",
    "blob = TextBlob(review2)\n",
    "blob.sentiment"
   ]
  }
 ],
 "metadata": {
  "kernelspec": {
   "display_name": "Python 3",
   "language": "python",
   "name": "python3"
  },
  "language_info": {
   "codemirror_mode": {
    "name": "ipython",
    "version": 3
   },
   "file_extension": ".py",
   "mimetype": "text/x-python",
   "name": "python",
   "nbconvert_exporter": "python",
   "pygments_lexer": "ipython3",
   "version": "3.11.8"
  }
 },
 "nbformat": 4,
 "nbformat_minor": 2
}
