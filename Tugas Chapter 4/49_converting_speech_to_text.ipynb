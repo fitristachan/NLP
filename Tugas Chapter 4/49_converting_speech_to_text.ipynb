{
 "cells": [
  {
   "cell_type": "code",
   "execution_count": 1,
   "metadata": {},
   "outputs": [],
   "source": [
    "import speech_recognition as sr"
   ]
  },
  {
   "cell_type": "code",
   "execution_count": 2,
   "metadata": {},
   "outputs": [
    {
     "name": "stdout",
     "output_type": "stream",
     "text": [
      "Please say something\n",
      "Time over, thanks\n",
      "I think you said: I'm hungry I love you I am hungry\n"
     ]
    }
   ],
   "source": [
    "r=sr.Recognizer()\n",
    "with sr.Microphone() as source:\n",
    " print(\"Please say something\")\n",
    " audio = r.listen(source)\n",
    " print(\"Time over, thanks\")\n",
    "try:\n",
    " print(\"I think you said: \"+r.recognize_google(audio))\n",
    "except:\n",
    " pass"
   ]
  },
  {
   "cell_type": "code",
   "execution_count": 3,
   "metadata": {},
   "outputs": [
    {
     "name": "stdout",
     "output_type": "stream",
     "text": [
      "Please say something\n",
      "Time over, thanks\n",
      "I think you said: I am hungry I want to eat I want to eat I'm so hungry\n"
     ]
    }
   ],
   "source": [
    "#code snippet\n",
    "r=sr.Recognizer()\n",
    "with sr.Microphone() as source:\n",
    " print(\"Please say something\")\n",
    " audio = r.listen(source)\n",
    " print(\"Time over, thanks\")y\n",
    "try:\n",
    " print(\"I think you said: \"+r.recognize_google(audio))\n",
    "except:\n",
    " pass"
   ]
  },
  {
   "cell_type": "code",
   "execution_count": 5,
   "metadata": {},
   "outputs": [
    {
     "name": "stdout",
     "output_type": "stream",
     "text": [
      "Please say something\n",
      "Time over, thanks\n",
      "I think you said: थिस टाइम आई वांट यूट्यूब यूट्यूब सुपर यू\n"
     ]
    }
   ],
   "source": [
    "#code snippet\n",
    "r=sr.Recognizer()\n",
    "with sr.Microphone() as source:\n",
    " print(\"Please say something\")\n",
    " audio = r.listen(source)\n",
    " print(\"Time over, thanks\")\n",
    "try:\n",
    " print(\"I think you said: \"+r.recognize_google(audio, language ='id-ID'))\n",
    "except sr.UnknownValueError:\n",
    " print(\"Google Speech Recognition could not understand audio\")\n",
    "except sr.RequestError as e:\n",
    " print(\"Could not request results from Google Speech Recognition service; {0}\".format(e))\n",
    "except:\n",
    " pass"
   ]
  }
 ],
 "metadata": {
  "kernelspec": {
   "display_name": "Python 3",
   "language": "python",
   "name": "python3"
  },
  "language_info": {
   "codemirror_mode": {
    "name": "ipython",
    "version": 3
   },
   "file_extension": ".py",
   "mimetype": "text/x-python",
   "name": "python",
   "nbconvert_exporter": "python",
   "pygments_lexer": "ipython3",
   "version": "3.11.8"
  }
 },
 "nbformat": 4,
 "nbformat_minor": 2
}
