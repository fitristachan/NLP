{
 "cells": [
  {
   "cell_type": "code",
   "execution_count": 14,
   "metadata": {},
   "outputs": [],
   "source": [
    "import numpy as np\n",
    "import pandas as pd\n",
    "import nltk\n",
    "from nltk import bigrams\n",
    "import itertools"
   ]
  },
  {
   "cell_type": "code",
   "execution_count": 15,
   "metadata": {},
   "outputs": [],
   "source": [
    "def co_occurrence_matrix(corpus):\n",
    " vocab = set(corpus)\n",
    " vocab = list(vocab)\n",
    " vocab_to_index = { word:i for i, word in enumerate(vocab) }\n",
    "\n",
    " # Create bigrams from all words in corpus\n",
    " bi_grams = list(bigrams(corpus))\n",
    "\n",
    " # Frequency distribution of bigrams ((word1, word2),num_occurrences)\n",
    " bigram_freq = nltk.FreqDist(bi_grams).most_common(len(bi_grams))\n",
    "\n",
    " # Initialise co-occurrence matrix\n",
    " # co_occurrence_matrix[current][previous]\n",
    " co_occurrence_matrix = np.zeros((len(vocab), len(vocab)))\n",
    "\n",
    " # Loop through the bigrams taking the current and previous word,\n",
    " # and the number of occurrences of the bigram.\n",
    " for bigram in bigram_freq:\n",
    "    current = bigram[0][1]\n",
    "    previous = bigram[0][0]\n",
    "    count = bigram[1]\n",
    "    pos_current = vocab_to_index[current]\n",
    "    pos_previous = vocab_to_index[previous]\n",
    "    co_occurrence_matrix[pos_current][pos_previous] = count\n",
    " co_occurrence_matrix = np.matrix(co_occurrence_matrix)\n",
    "\n",
    " # return the matrix and the index\n",
    " return co_occurrence_matrix, vocab_to_index"
   ]
  },
  {
   "cell_type": "code",
   "execution_count": 17,
   "metadata": {},
   "outputs": [
    {
     "name": "stdout",
     "output_type": "stream",
     "text": [
      "           I   is  nlp  cool  tolearn  love  future\n",
      "I        0.0  0.0  1.0   0.0      0.0   0.0     0.0\n",
      "is       0.0  0.0  2.0   0.0      0.0   0.0     0.0\n",
      "nlp      0.0  0.0  0.0   0.0      1.0   1.0     1.0\n",
      "cool     0.0  1.0  0.0   0.0      0.0   0.0     0.0\n",
      "tolearn  0.0  0.0  0.0   0.0      0.0   1.0     0.0\n",
      "love     2.0  0.0  0.0   0.0      0.0   0.0     0.0\n",
      "future   0.0  1.0  0.0   0.0      0.0   0.0     0.0\n"
     ]
    }
   ],
   "source": [
    "sentences = [['I', 'love', 'nlp'],\n",
    "['I', 'love','to' 'learn'],\n",
    "['nlp', 'is', 'future'],\n",
    "['nlp', 'is', 'cool']]\n",
    "\n",
    "# create one list using many lists\n",
    "merged = list(itertools.chain.from_iterable(sentences))\n",
    "matrix, vocab_to_index = co_occurrence_matrix(merged)\n",
    "\n",
    "# generate the matrix\n",
    "CoMatrixFinal = pd.DataFrame(matrix, index=vocab_to_index,columns=vocab_to_index)\n",
    "print(CoMatrixFinal)"
   ]
  }
 ],
 "metadata": {
  "kernelspec": {
   "display_name": "Python 3",
   "language": "python",
   "name": "python3"
  },
  "language_info": {
   "codemirror_mode": {
    "name": "ipython",
    "version": 3
   },
   "file_extension": ".py",
   "mimetype": "text/x-python",
   "name": "python",
   "nbconvert_exporter": "python",
   "pygments_lexer": "ipython3",
   "version": "3.11.8"
  }
 },
 "nbformat": 4,
 "nbformat_minor": 2
}
