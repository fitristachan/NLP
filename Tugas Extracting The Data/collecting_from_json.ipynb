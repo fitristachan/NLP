{
 "cells": [
  {
   "cell_type": "code",
   "execution_count": 18,
   "metadata": {},
   "outputs": [],
   "source": [
    "import requests\n",
    "import json"
   ]
  },
  {
   "cell_type": "code",
   "execution_count": 19,
   "metadata": {},
   "outputs": [
    {
     "name": "stdout",
     "output_type": "stream",
     "text": [
      "{\n",
      "    \"success\": {\n",
      "        \"total\": 1\n",
      "    },\n",
      "    \"contents\": {\n",
      "        \"quotes\": [\n",
      "            {\n",
      "                \"id\": \"dPKsui4sQnQqgMnXHLKtfweF\",\n",
      "                \"quote\": \"Where there is ruin, there is hope for a treasure.\",\n",
      "                \"length\": 50,\n",
      "                \"author\": \"Rumi\",\n",
      "                \"language\": \"en\",\n",
      "                \"tags\": [\n",
      "                    \"failure\",\n",
      "                    \"inspire\"\n",
      "                ],\n",
      "                \"sfw\": \"sfw\",\n",
      "                \"permalink\": \"https://theysaidso.com/quote/rumi-where-there-is-ruin-there-is-hope-for-a-treasure\",\n",
      "                \"title\": \"Inspiring Quote of the day\",\n",
      "                \"category\": \"inspire\",\n",
      "                \"background\": \"https://theysaidso.com/assets/images/qod/qod-inspire.jpg\",\n",
      "                \"date\": \"2024-04-10\"\n",
      "            }\n",
      "        ]\n",
      "    },\n",
      "    \"copyright\": {\n",
      "        \"url\": \"https://quotes.rest\",\n",
      "        \"year\": \"2024\"\n",
      "    }\n",
      "}\n"
     ]
    }
   ],
   "source": [
    "# Define the URL\n",
    "url = \"https://quotes.rest/qod.json\"\n",
    "\n",
    "api_token = \"bXthht4CVeupJXUOHqT6LXsjRaceSdrLvZ2oHIzl\"\n",
    "headers = {'content-type': 'application/json',\n",
    "\t   'X-TheySaidSo-Api-Secret': format(api_token)}\n",
    "\n",
    "\n",
    "# Make the GET request with headers\n",
    "r = requests.get(url, headers=headers)\n",
    "\n",
    "res = r.json()\n",
    "print(json.dumps(res, indent = 4))"
   ]
  },
  {
   "cell_type": "code",
   "execution_count": 20,
   "metadata": {},
   "outputs": [
    {
     "data": {
      "text/plain": [
       "{'id': 'dPKsui4sQnQqgMnXHLKtfweF',\n",
       " 'quote': 'Where there is ruin, there is hope for a treasure.',\n",
       " 'length': 50,\n",
       " 'author': 'Rumi',\n",
       " 'language': 'en',\n",
       " 'tags': ['failure', 'inspire'],\n",
       " 'sfw': 'sfw',\n",
       " 'permalink': 'https://theysaidso.com/quote/rumi-where-there-is-ruin-there-is-hope-for-a-treasure',\n",
       " 'title': 'Inspiring Quote of the day',\n",
       " 'category': 'inspire',\n",
       " 'background': 'https://theysaidso.com/assets/images/qod/qod-inspire.jpg',\n",
       " 'date': '2024-04-10'}"
      ]
     },
     "execution_count": 20,
     "metadata": {},
     "output_type": "execute_result"
    }
   ],
   "source": [
    "#extract contents\n",
    "q = res['contents']['quotes'][0]\n",
    "q"
   ]
  },
  {
   "cell_type": "code",
   "execution_count": 21,
   "metadata": {},
   "outputs": [
    {
     "name": "stdout",
     "output_type": "stream",
     "text": [
      "Where there is ruin, there is hope for a treasure. \n",
      "-- Rumi\n"
     ]
    }
   ],
   "source": [
    "#extract only quote\n",
    "print(q['quote'], '\\n--', q['author'])"
   ]
  }
 ],
 "metadata": {
  "kernelspec": {
   "display_name": "Python 3",
   "language": "python",
   "name": "python3"
  },
  "language_info": {
   "codemirror_mode": {
    "name": "ipython",
    "version": 3
   },
   "file_extension": ".py",
   "mimetype": "text/x-python",
   "name": "python",
   "nbconvert_exporter": "python",
   "pygments_lexer": "ipython3",
   "version": "3.11.-1"
  },
  "orig_nbformat": 4
 },
 "nbformat": 4,
 "nbformat_minor": 2
}
