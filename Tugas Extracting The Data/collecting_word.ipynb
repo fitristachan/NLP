{
 "cells": [
  {
   "cell_type": "code",
   "execution_count": 3,
   "metadata": {},
   "outputs": [
    {
     "name": "stdout",
     "output_type": "stream",
     "text": [
      "Note: you may need to restart the kernel to use updated packages.\n"
     ]
    },
    {
     "name": "stderr",
     "output_type": "stream",
     "text": [
      "WARNING: Skipping docx as it is not installed.\n"
     ]
    },
    {
     "name": "stdout",
     "output_type": "stream",
     "text": [
      "Requirement already satisfied: python-docx in c:\\users\\gabriel viceraira\\appdata\\local\\packages\\pythonsoftwarefoundation.python.3.11_qbz5n2kfra8p0\\localcache\\local-packages\\python311\\site-packages (1.1.0)\n",
      "Requirement already satisfied: lxml>=3.1.0 in c:\\users\\gabriel viceraira\\appdata\\local\\packages\\pythonsoftwarefoundation.python.3.11_qbz5n2kfra8p0\\localcache\\local-packages\\python311\\site-packages (from python-docx) (5.2.1)\n",
      "Requirement already satisfied: typing-extensions in c:\\users\\gabriel viceraira\\appdata\\local\\packages\\pythonsoftwarefoundation.python.3.11_qbz5n2kfra8p0\\localcache\\local-packages\\python311\\site-packages (from python-docx) (4.11.0)\n",
      "Note: you may need to restart the kernel to use updated packages.\n"
     ]
    },
    {
     "name": "stderr",
     "output_type": "stream",
     "text": [
      "\n",
      "[notice] A new release of pip is available: 23.1.2 -> 24.0\n",
      "[notice] To update, run: C:\\Users\\GABRIEL VICERAIRA\\AppData\\Local\\Microsoft\\WindowsApps\\PythonSoftwareFoundation.Python.3.11_qbz5n2kfra8p0\\python.exe -m pip install --upgrade pip\n"
     ]
    }
   ],
   "source": [
    "#Install docx\n",
    "%pip install python-docx"
   ]
  },
  {
   "cell_type": "code",
   "execution_count": 2,
   "metadata": {},
   "outputs": [
    {
     "name": "stdout",
     "output_type": "stream",
     "text": [
      "LAPORAN AKHIRAndroid Learning PathFitri Sagita2107411039TEKNIK INFORMATIKA DAN KOMPUTER  POLITEKNIK NEGERI JAKARTA2023Kata PengantarPuji syukur atas kehadirat Allah SWT yang telah memberikan limpahan rahmat dan karunia-Nya, sehingga penulis berhasil menyelesaikan Laporan Akhir MSIB Android Learning Path Studi Independent di Yayasan Dicoding Indonesia. Proses penulisan laporan ini melibatkan bantuan berbagai pihak yang telah memberikan kontribusi besar dalam kelancaran penyelesaian laporan akhir ini. Oleh karena itu, penulis ingin menyampaikan rasa terima kasih kepada:Kementerian Pendidikan, Kebudayaan, Riset, dan Teknologi Republik Indonesia atas kesempatan yang diberikan untuk mengikuti MSIB VRizki Elisa Nalawati, S.T., M.T. selaku Dosen Pembimbing yang telah membimbing saya selama saya mengikuti MSIB VPaulina Graciela Harmanto selaku mentor saya selama di Bangkit yang telah membimbing sayaOrangtua penulis yang tak henti-hentinya memberikan doa dan dukungan.Rekan-rekan dari Teknik Informatika, Semester 5, Kelas B, yang telah memberikan motivasi dan dukungan selama masa perkuliahan.Laporan akhir ini ditujukan untuk memenuhi syarat penyelesaian MSIB V. Sebagai bukti bahwa penulis telah mengikuti seluruh kegiatan MSIB V dari awal hingga akhir. Penulis sadar bahwa masih terdapat kekurangan dalam laporan ini. Oleh karena itu, penulis mengharapkan masukan dan saran yang membangun guna perbaikan laporan di masa yang akan datang. Penulis juga memohon maaf atas segala kesalahan yang mungkin terjadi dalam penyusunan laporan ini.Jakarta, 25 Desember 2023Fitri SagitaDaftar IsiDaftar IstilahGambaran UmumProfil PerusahaanBangkit didesain untuk mempersiapkan peserta dengan kecakapan (skills) yang relevan dan dibutuhkan berdasarkan sertifikasi teknikal. Tahun ini Bangkit kembali menyelenggarakan 3 (tiga) alur belajar multidisiplin - Machine Learning, Mobile Development (Android), dan Cloud Computing. Dengan mengikuti Bangkit, peserta akan memiliki pengalaman dan terekspos dengan serba-serbi karir di industri dan pekerjaan di ekosistem teknologi Indonesia.Bangkit merupakan program pembelajaran yang dipimpin oleh Google dengan dukungan GoTo, Traveloka, dan DeepTech Foundation. Dengan dukungan Kampus Merdeka, Bangkit akan menawarkan tempat belajar untuk mahasiswa Indonesia untuk memastikan mereka relevan dengan kecakapan yang dibutuhkan oleh industri pada semester genap, tahun 2022/2023.  Deskripsi KegiatanPosisi \t\t:  Android Learning PathDeskripsi    : Android learning path berfokus pada pengembangan aplikasi Android. Fokus pembelajarannya dimulai dari pemahaman tentang konsep dasar dalam pembuatan aplikasi hingga implementasi teknis yang kompleks pada tahap Intermediate. Di Bangkit, pengembangan aplikasi android-nya sendiri menggunakan bahasa pemrograman Kotlin. Kami belajar mulai dari dasar kotlin, hingga bagaimana penggunaan Kotlin dalam pembuatan aplikasi-aplikasi yang sederhana. Kompetensi yang dikembangkan : Memulai Pemrograman dengan KotlinBelajar Membuat Aplikasi Android untuk PemulaBelajar Fundamental Aplikasi Android Belajar Pengembangan Aplikasi Android Intermediate Belajar Prinsip Pemrograman SOLID Belajar Membuat Aplikasi Android dengan Jetpack Compose Simulasi Ujian Associate Android Developer Tuliskan secara singkat hal apa yang telah dilakukan selama program : Mempelajari pembuatan aplikasi menggunakan bahasa Kotlin dan Android Studio, dimulai dari aplikasi sederhana dengan data lokal, kemudian melanjutkan ke pembuatan aplikasi yang mengakses data dari API eksternal.Selain penguasaan keterampilan teknis, peningkatan soft skill juga menjadi fokus, seperti project management dan time management. Sebagai bagian dari capstone project, saya bersama tim mengembangkan aplikasi untuk mendeteksi keberadaan lektin dalam makanan, dengan implementasi menggunakan Jetpack Compose.Aktivitas MingguanPenutupKesimpulanProses pelaksanaan MSIB V di Bangkit berlangsung dengan baik dan terstruktur, setiap acara diberitahukan minimal H-1 sehingga tidak ada jadwal yang saling bertabrakan baik dari mitra maupun dari Kampus Merdeka.Seluruh course yang dipelajari di Bangkit Batch 2 - Android Learning Path telah sesuai dengan path yang dipilih, yaitu android. Sehingga fokus pembelajarannya juga masih pada bagaimana cara membuat aplikasi android yang benar dengan Kotlin.Capstone project menggunakan kasus nyata yang terjadi di Indonesia dan disini kita dituntut untuk fokus pada penyelesaian kasus tersebut dengan menggunakan teknologi yang telah dipelajari. Hal ini merupakan hal yang baik dan bagus sebagai bahan pembelajaran bagaimana menggunakan teknologi untuk menyelesaikan kasus-kasus yang ada di Indonesia.SaranAnggota tim mobile development pada Capstone mungkin bisa ditambahkan jumlahnya, setidaknya minimal dalam satu tim ada dua orang anggota mobile development.Dalam menjalankan pelaksanaan program MSIB V, perlu diperhatikan koordinasi yang efektif antara tim Kampus Merdeka dan para mitra serta mahasiswa. Salah satu kendala yang teridentifikasi adalah kurangnya informasi mengenai DPP (Dosen Pendamping Program), baik dari segi eksistensinya maupun fungsi yang diemban. Oleh karena itu, penting bagi tim Kampus Merdeka untuk meningkatkan komunikasi yang lebih terbuka dan terstruktur di awal mengenai peran serta fungsi DPP kepada semua pihak terkait. Dengan demikian, kesadaran dan pemahaman yang lebih baik tentang peran DPP akan dapat terbentuk, sehingga kolaborasi antara mitra, mahasiswa, dan DPP dapat berjalan lebih efisien di masa yang akan datang.Referensi[1] Bangkit Academy (2023). Proposal Studi Independen Bersertifikat Bangkit Academy. Yayasan Dicoding Indonesia[2] https://kampusmerdeka.kemdikbud.go.id/[3] Sendjaja, Sasa Djuarsa. (2014). Pengantar Teori Komunikasi. Universitas Terbuka.LampiranBerikut saya lampirkan screenshot hasil proyek capstone tim saya:\n"
     ]
    }
   ],
   "source": [
    "#Import library\n",
    "from docx import Document\n",
    "#Creating a word file object\n",
    "doc = open(\"fileextract.docx\",\"rb\")\n",
    "#creating word reader object\n",
    "document = Document(doc)\n",
    "docu=\"\"\n",
    "for para in document.paragraphs:\n",
    " docu += para.text\n",
    "#to see the output call docu\n",
    "print(docu)"
   ]
  }
 ],
 "metadata": {
  "kernelspec": {
   "display_name": "Python 3",
   "language": "python",
   "name": "python3"
  },
  "language_info": {
   "codemirror_mode": {
    "name": "ipython",
    "version": 3
   },
   "file_extension": ".py",
   "mimetype": "text/x-python",
   "name": "python",
   "nbconvert_exporter": "python",
   "pygments_lexer": "ipython3",
   "version": "3.11.-1"
  },
  "orig_nbformat": 4
 },
 "nbformat": 4,
 "nbformat_minor": 2
}
